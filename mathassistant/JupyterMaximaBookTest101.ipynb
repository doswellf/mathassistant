{
 "cells": [
  {
   "cell_type": "markdown",
   "metadata": {},
   "source": [
    "This Is A Jupyter Notebook That Talks To The Maxima CAS"
   ]
  },
  {
   "cell_type": "code",
   "execution_count": 8,
   "metadata": {},
   "outputs": [
    {
     "data": {
      "text/latex": [
       "\\[\\tag{${\\it \\%o}_{4}$}35\\,x^4\\]"
      ],
      "text/plain": [
       "                                         4\n",
       "(%o4)                                35 x"
      ],
      "text/x-maxima": [
       "35*x^4"
      ]
     },
     "execution_count": 8,
     "metadata": {},
     "output_type": "execute_result"
    }
   ],
   "source": [
    "diff(7*x^5,x);"
   ]
  },
  {
   "cell_type": "code",
   "execution_count": 9,
   "metadata": {},
   "outputs": [
    {
     "data": {
      "text/latex": [
       "\\[\\tag{${\\it \\%o}_{5}$}140\\,x^3\\]"
      ],
      "text/plain": [
       "                                         3\n",
       "(%o5)                               140 x"
      ],
      "text/x-maxima": [
       "140*x^3"
      ]
     },
     "execution_count": 9,
     "metadata": {},
     "output_type": "execute_result"
    }
   ],
   "source": [
    "diff(7*x^5,x,2);"
   ]
  },
  {
   "cell_type": "code",
   "execution_count": 10,
   "metadata": {},
   "outputs": [
    {
     "data": {
      "text/latex": [
       "\\[\\tag{${\\it \\%o}_{6}$}420\\,x^2\\]"
      ],
      "text/plain": [
       "                                         2\n",
       "(%o6)                               420 x"
      ],
      "text/x-maxima": [
       "420*x^2"
      ]
     },
     "execution_count": 10,
     "metadata": {},
     "output_type": "execute_result"
    }
   ],
   "source": [
    "diff(7*x^5,x,3);"
   ]
  },
  {
   "cell_type": "code",
   "execution_count": 11,
   "metadata": {},
   "outputs": [
    {
     "data": {
      "text/latex": [
       "\\[\\tag{${\\it \\%o}_{7}$}840\\,x\\]"
      ],
      "text/plain": [
       "(%o7)                                840 x"
      ],
      "text/x-maxima": [
       "840*x"
      ]
     },
     "execution_count": 11,
     "metadata": {},
     "output_type": "execute_result"
    }
   ],
   "source": [
    "diff(7*x^5,x,4);"
   ]
  },
  {
   "cell_type": "code",
   "execution_count": 12,
   "metadata": {},
   "outputs": [
    {
     "data": {
      "text/latex": [
       "\\[\\tag{${\\it \\%o}_{8}$}\\frac{5\\,x^3\\,y^4}{4}\\]"
      ],
      "text/plain": [
       "                                       3  4\n",
       "                                    5 x  y\n",
       "(%o8)                               -------\n",
       "                                       4"
      ],
      "text/x-maxima": [
       "(5*x^3*y^4)/4"
      ]
     },
     "execution_count": 12,
     "metadata": {},
     "output_type": "execute_result"
    }
   ],
   "source": [
    "integrate(integrate(5*x^2*3*y^3,x,2),y,2);"
   ]
  },
  {
   "cell_type": "code",
   "execution_count": 16,
   "metadata": {},
   "outputs": [
    {
     "data": {
      "text/latex": [
       "\\[\\tag{${\\it \\%o}_{11}$}\\mbox{ /usr/local/share/maxima/5.44.0/share/vector/vect.mac }\\]"
      ],
      "text/plain": [
       "(%o11)       /usr/local/share/maxima/5.44.0/share/vector/vect.mac"
      ],
      "text/x-maxima": [
       "\"/usr/local/share/maxima/5.44.0/share/vector/vect.mac\""
      ]
     },
     "execution_count": 16,
     "metadata": {},
     "output_type": "execute_result"
    }
   ],
   "source": [
    "load(vect);"
   ]
  },
  {
   "cell_type": "code",
   "execution_count": 17,
   "metadata": {},
   "outputs": [
    {
     "data": {
      "text/latex": [
       "\\[\\tag{${\\it \\%o}_{12}$}\\mbox{ /usr/local/share/maxima/5.44.0/share/matrix/eigen.mac }\\]"
      ],
      "text/plain": [
       "(%o12)       /usr/local/share/maxima/5.44.0/share/matrix/eigen.mac"
      ],
      "text/x-maxima": [
       "\"/usr/local/share/maxima/5.44.0/share/matrix/eigen.mac\""
      ]
     },
     "execution_count": 17,
     "metadata": {},
     "output_type": "execute_result"
    }
   ],
   "source": [
    "load(eigen);"
   ]
  },
  {
   "cell_type": "code",
   "execution_count": null,
   "metadata": {},
   "outputs": [],
   "source": []
  }
 ],
 "metadata": {
  "kernelspec": {
   "display_name": "Maxima",
   "language": "maxima",
   "name": "maxima"
  },
  "language_info": {
   "codemirror_mode": "maxima",
   "file_extension": ".mac",
   "mimetype": "text/x-maxima",
   "name": "maxima",
   "pygments_lexer": "maxima",
   "version": "5.44.0"
  }
 },
 "nbformat": 4,
 "nbformat_minor": 4
}
