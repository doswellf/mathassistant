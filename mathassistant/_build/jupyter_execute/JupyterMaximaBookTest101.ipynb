{
 "cells": [
  {
   "cell_type": "markdown",
   "metadata": {},
   "source": [
    "This Is A Jupyter Notebook That Talks To The Maxima CAS"
   ]
  },
  {
   "cell_type": "code",
   "execution_count": 1,
   "metadata": {},
   "outputs": [
    {
     "data": {
      "text/latex": [
       "\\[\\tag{${\\it \\%o}_{1}$}35\\,x^4\\]"
      ],
      "text/plain": [
       "                                         4\n",
       "(%o1)                                35 x"
      ],
      "text/x-maxima": [
       "35*x^4"
      ]
     },
     "execution_count": 1,
     "metadata": {},
     "output_type": "execute_result"
    }
   ],
   "source": [
    "diff(7*x^5,x);"
   ]
  },
  {
   "cell_type": "code",
   "execution_count": 2,
   "metadata": {},
   "outputs": [
    {
     "data": {
      "text/latex": [
       "\\[\\tag{${\\it \\%o}_{2}$}140\\,x^3\\]"
      ],
      "text/plain": [
       "                                         3\n",
       "(%o2)                               140 x"
      ],
      "text/x-maxima": [
       "140*x^3"
      ]
     },
     "execution_count": 2,
     "metadata": {},
     "output_type": "execute_result"
    }
   ],
   "source": [
    "diff(7*x^5,x,2);"
   ]
  },
  {
   "cell_type": "code",
   "execution_count": 3,
   "metadata": {},
   "outputs": [
    {
     "data": {
      "text/latex": [
       "\\[\\tag{${\\it \\%o}_{3}$}420\\,x^2\\]"
      ],
      "text/plain": [
       "                                         2\n",
       "(%o3)                               420 x"
      ],
      "text/x-maxima": [
       "420*x^2"
      ]
     },
     "execution_count": 3,
     "metadata": {},
     "output_type": "execute_result"
    }
   ],
   "source": [
    "diff(7*x^5,x,3);"
   ]
  },
  {
   "cell_type": "code",
   "execution_count": 4,
   "metadata": {},
   "outputs": [
    {
     "data": {
      "text/latex": [
       "\\[\\tag{${\\it \\%o}_{4}$}840\\,x\\]"
      ],
      "text/plain": [
       "(%o4)                                840 x"
      ],
      "text/x-maxima": [
       "840*x"
      ]
     },
     "execution_count": 4,
     "metadata": {},
     "output_type": "execute_result"
    }
   ],
   "source": [
    "diff(7*x^5,x,4);"
   ]
  },
  {
   "cell_type": "code",
   "execution_count": 5,
   "metadata": {},
   "outputs": [
    {
     "data": {
      "text/latex": [
       "\\[\\tag{${\\it \\%o}_{5}$}\\frac{5\\,x^3\\,y^4}{4}\\]"
      ],
      "text/plain": [
       "                                       3  4\n",
       "                                    5 x  y\n",
       "(%o5)                               -------\n",
       "                                       4"
      ],
      "text/x-maxima": [
       "(5*x^3*y^4)/4"
      ]
     },
     "execution_count": 5,
     "metadata": {},
     "output_type": "execute_result"
    }
   ],
   "source": [
    "integrate(integrate(5*x^2*3*y^3,x,2),y,2);"
   ]
  },
  {
   "cell_type": "code",
   "execution_count": 6,
   "metadata": {},
   "outputs": [
    {
     "data": {
      "text/latex": [
       "\\[\\tag{${\\it \\%o}_{6}$}\\mbox{ /usr/local/share/maxima/5.44.0/share/vector/vect.mac }\\]"
      ],
      "text/plain": [
       "(%o6)        /usr/local/share/maxima/5.44.0/share/vector/vect.mac"
      ],
      "text/x-maxima": [
       "\"/usr/local/share/maxima/5.44.0/share/vector/vect.mac\""
      ]
     },
     "execution_count": 6,
     "metadata": {},
     "output_type": "execute_result"
    }
   ],
   "source": [
    "load(vect);"
   ]
  },
  {
   "cell_type": "code",
   "execution_count": 7,
   "metadata": {},
   "outputs": [
    {
     "data": {
      "text/latex": [
       "\\[\\tag{${\\it \\%o}_{7}$}\\mbox{ /usr/local/share/maxima/5.44.0/share/matrix/eigen.mac }\\]"
      ],
      "text/plain": [
       "(%o7)        /usr/local/share/maxima/5.44.0/share/matrix/eigen.mac"
      ],
      "text/x-maxima": [
       "\"/usr/local/share/maxima/5.44.0/share/matrix/eigen.mac\""
      ]
     },
     "execution_count": 7,
     "metadata": {},
     "output_type": "execute_result"
    }
   ],
   "source": [
    "load(eigen);"
   ]
  },
  {
   "cell_type": "code",
   "execution_count": null,
   "metadata": {},
   "outputs": [],
   "source": []
  }
 ],
 "metadata": {
  "kernelspec": {
   "display_name": "Maxima",
   "language": "maxima",
   "name": "maxima"
  },
  "language_info": {
   "codemirror_mode": "maxima",
   "file_extension": ".mac",
   "mimetype": "text/x-maxima",
   "name": "maxima",
   "pygments_lexer": "maxima",
   "version": "5.44.0"
  }
 },
 "nbformat": 4,
 "nbformat_minor": 4
}